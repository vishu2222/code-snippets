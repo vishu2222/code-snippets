{
  "nbformat": 4,
  "nbformat_minor": 0,
  "metadata": {
    "colab": {
      "name": "pyspark2.ipynb",
      "provenance": [],
      "collapsed_sections": [],
      "authorship_tag": "ABX9TyPeDOj7gXUkZJiRjwsqwMZ4",
      "include_colab_link": true
    },
    "kernelspec": {
      "name": "python3",
      "display_name": "Python 3"
    },
    "language_info": {
      "name": "python"
    }
  },
  "cells": [
    {
      "cell_type": "markdown",
      "metadata": {
        "id": "view-in-github",
        "colab_type": "text"
      },
      "source": [
        "<a href=\"https://colab.research.google.com/github/VishwanathReddyAenugu/MyLearning/blob/main/pyspark/pyspark2.ipynb\" target=\"_parent\"><img src=\"https://colab.research.google.com/assets/colab-badge.svg\" alt=\"Open In Colab\"/></a>"
      ]
    },
    {
      "cell_type": "markdown",
      "metadata": {
        "id": "my3XX2NZG3PK"
      },
      "source": [
        "\n",
        "\n",
        "1.   **Handling missing values**\n",
        "2.   **Dropping columns**\n",
        "3.   **Dropping rows**\n",
        "4.   **various parameters in droping functionalities**"
      ]
    },
    {
      "cell_type": "code",
      "metadata": {
        "colab": {
          "base_uri": "https://localhost:8080/"
        },
        "id": "uRmn7aXzG8cw",
        "outputId": "8e454f66-17e1-4af2-fdab-ea5464d97439"
      },
      "source": [
        "!pip install pyspark"
      ],
      "execution_count": 1,
      "outputs": [
        {
          "output_type": "stream",
          "name": "stdout",
          "text": [
            "Collecting pyspark\n",
            "  Downloading pyspark-3.2.0.tar.gz (281.3 MB)\n",
            "\u001b[K     |████████████████████████████████| 281.3 MB 37 kB/s \n",
            "\u001b[?25hCollecting py4j==0.10.9.2\n",
            "  Downloading py4j-0.10.9.2-py2.py3-none-any.whl (198 kB)\n",
            "\u001b[K     |████████████████████████████████| 198 kB 62.7 MB/s \n",
            "\u001b[?25hBuilding wheels for collected packages: pyspark\n",
            "  Building wheel for pyspark (setup.py) ... \u001b[?25l\u001b[?25hdone\n",
            "  Created wheel for pyspark: filename=pyspark-3.2.0-py2.py3-none-any.whl size=281805912 sha256=086da865df199ebfad03678a8e7e124734848556d157b0a0a360fb45847ca786\n",
            "  Stored in directory: /root/.cache/pip/wheels/0b/de/d2/9be5d59d7331c6c2a7c1b6d1a4f463ce107332b1ecd4e80718\n",
            "Successfully built pyspark\n",
            "Installing collected packages: py4j, pyspark\n",
            "Successfully installed py4j-0.10.9.2 pyspark-3.2.0\n"
          ]
        }
      ]
    },
    {
      "cell_type": "code",
      "metadata": {
        "id": "DAPWf-G1Jpb1"
      },
      "source": [
        "import pyspark \n",
        "import pandas as pd"
      ],
      "execution_count": 2,
      "outputs": []
    },
    {
      "cell_type": "code",
      "metadata": {
        "id": "Pvb4UoBLHJRv"
      },
      "source": [
        "data = {\n",
        "        \"Name\": [\"krish\",\"sudharshan\",\"sunny\",\"paul\",\"harsha\",\"shubam\",\"mahesh\",None,None],\n",
        "        \"age\" : [31, 30,29,24,21,23,None,34,36],\n",
        "        \"Experience\": [10,8,4,3,1,2,None,10,None],\n",
        "        \"salary\": [30000, 25000, 20000, 20000, 15000, 18000, 40000, 38000,None]\n",
        "       }"
      ],
      "execution_count": 3,
      "outputs": []
    },
    {
      "cell_type": "code",
      "metadata": {
        "id": "qTzZxqK9Iryp"
      },
      "source": [
        "df = pd.DataFrame.from_dict(data)     \n",
        "df.to_csv(\"test1.csv\")"
      ],
      "execution_count": 4,
      "outputs": []
    },
    {
      "cell_type": "code",
      "metadata": {
        "id": "dXfYOTn8BYJj"
      },
      "source": [
        "from pyspark.sql import SparkSession\n",
        "spark = SparkSession.builder.appName(\"Practice\").getOrCreate()"
      ],
      "execution_count": 5,
      "outputs": []
    },
    {
      "cell_type": "code",
      "metadata": {
        "id": "zwTlxwewIsnw"
      },
      "source": [
        "pyspark_df = spark.read.csv(\"test1.csv\",header=True, inferSchema=True)"
      ],
      "execution_count": 6,
      "outputs": []
    },
    {
      "cell_type": "code",
      "metadata": {
        "colab": {
          "base_uri": "https://localhost:8080/"
        },
        "id": "tLa9hR5TIsqa",
        "outputId": "7e2167fc-5dc5-4b80-ff18-f3b8119038c7"
      },
      "source": [
        "pyspark_df.show()"
      ],
      "execution_count": 7,
      "outputs": [
        {
          "output_type": "stream",
          "name": "stdout",
          "text": [
            "+---+----------+----+----------+-------+\n",
            "|_c0|      Name| age|Experience| salary|\n",
            "+---+----------+----+----------+-------+\n",
            "|  0|     krish|31.0|      10.0|30000.0|\n",
            "|  1|sudharshan|30.0|       8.0|25000.0|\n",
            "|  2|     sunny|29.0|       4.0|20000.0|\n",
            "|  3|      paul|24.0|       3.0|20000.0|\n",
            "|  4|    harsha|21.0|       1.0|15000.0|\n",
            "|  5|    shubam|23.0|       2.0|18000.0|\n",
            "|  6|    mahesh|null|      null|40000.0|\n",
            "|  7|      null|34.0|      10.0|38000.0|\n",
            "|  8|      null|36.0|      null|   null|\n",
            "+---+----------+----+----------+-------+\n",
            "\n"
          ]
        }
      ]
    },
    {
      "cell_type": "markdown",
      "metadata": {
        "id": "6UIgNsJMLE3n"
      },
      "source": [
        "**Deleting null rows**"
      ]
    },
    {
      "cell_type": "code",
      "metadata": {
        "colab": {
          "base_uri": "https://localhost:8080/"
        },
        "id": "ClMZzevHIstR",
        "outputId": "5ced3993-81e5-46be-ba9f-0307f41d67e9"
      },
      "source": [
        "pyspark_df.na.drop().show() # deletes null rows"
      ],
      "execution_count": 8,
      "outputs": [
        {
          "output_type": "stream",
          "name": "stdout",
          "text": [
            "+---+----------+----+----------+-------+\n",
            "|_c0|      Name| age|Experience| salary|\n",
            "+---+----------+----+----------+-------+\n",
            "|  0|     krish|31.0|      10.0|30000.0|\n",
            "|  1|sudharshan|30.0|       8.0|25000.0|\n",
            "|  2|     sunny|29.0|       4.0|20000.0|\n",
            "|  3|      paul|24.0|       3.0|20000.0|\n",
            "|  4|    harsha|21.0|       1.0|15000.0|\n",
            "|  5|    shubam|23.0|       2.0|18000.0|\n",
            "+---+----------+----+----------+-------+\n",
            "\n"
          ]
        }
      ]
    },
    {
      "cell_type": "markdown",
      "metadata": {
        "id": "-MUyr9MTPusb"
      },
      "source": [
        "**Delete rows that contains null values in all columns**"
      ]
    },
    {
      "cell_type": "code",
      "metadata": {
        "id": "TBMExdi_IswD",
        "colab": {
          "base_uri": "https://localhost:8080/"
        },
        "outputId": "ee8724a2-9f73-4335-cc59-1c962a95b5b7"
      },
      "source": [
        "pyspark_df.na.drop(how=\"all\").show()"
      ],
      "execution_count": 9,
      "outputs": [
        {
          "output_type": "stream",
          "name": "stdout",
          "text": [
            "+---+----------+----+----------+-------+\n",
            "|_c0|      Name| age|Experience| salary|\n",
            "+---+----------+----+----------+-------+\n",
            "|  0|     krish|31.0|      10.0|30000.0|\n",
            "|  1|sudharshan|30.0|       8.0|25000.0|\n",
            "|  2|     sunny|29.0|       4.0|20000.0|\n",
            "|  3|      paul|24.0|       3.0|20000.0|\n",
            "|  4|    harsha|21.0|       1.0|15000.0|\n",
            "|  5|    shubam|23.0|       2.0|18000.0|\n",
            "|  6|    mahesh|null|      null|40000.0|\n",
            "|  7|      null|34.0|      10.0|38000.0|\n",
            "|  8|      null|36.0|      null|   null|\n",
            "+---+----------+----+----------+-------+\n",
            "\n"
          ]
        }
      ]
    },
    {
      "cell_type": "markdown",
      "metadata": {
        "id": "1wtJkzrUP-u1"
      },
      "source": [
        "**Delete rows that contains null values in atleast one column**"
      ]
    },
    {
      "cell_type": "code",
      "metadata": {
        "id": "vYTax1CcIsy6",
        "colab": {
          "base_uri": "https://localhost:8080/"
        },
        "outputId": "113f1d6c-3bd6-4f70-b9a3-8ab6e0189618"
      },
      "source": [
        "pyspark_df.na.drop(how =\"any\").show()"
      ],
      "execution_count": 10,
      "outputs": [
        {
          "output_type": "stream",
          "name": "stdout",
          "text": [
            "+---+----------+----+----------+-------+\n",
            "|_c0|      Name| age|Experience| salary|\n",
            "+---+----------+----+----------+-------+\n",
            "|  0|     krish|31.0|      10.0|30000.0|\n",
            "|  1|sudharshan|30.0|       8.0|25000.0|\n",
            "|  2|     sunny|29.0|       4.0|20000.0|\n",
            "|  3|      paul|24.0|       3.0|20000.0|\n",
            "|  4|    harsha|21.0|       1.0|15000.0|\n",
            "|  5|    shubam|23.0|       2.0|18000.0|\n",
            "+---+----------+----+----------+-------+\n",
            "\n"
          ]
        }
      ]
    },
    {
      "cell_type": "markdown",
      "metadata": {
        "id": "EB6qcdEIQck-"
      },
      "source": [
        "**Delete rows that contains more than 2 null values**"
      ]
    },
    {
      "cell_type": "code",
      "metadata": {
        "colab": {
          "base_uri": "https://localhost:8080/"
        },
        "id": "jxrFHLVNPa89",
        "outputId": "8e9c7746-e112-4c45-ebab-c2b4ead4c0f6"
      },
      "source": [
        "pyspark_df.na.drop(how=\"any\",thresh=2).show()  #include only those rows that contain atleast 2 not null values"
      ],
      "execution_count": 12,
      "outputs": [
        {
          "output_type": "stream",
          "name": "stdout",
          "text": [
            "+---+----------+----+----------+-------+\n",
            "|_c0|      Name| age|Experience| salary|\n",
            "+---+----------+----+----------+-------+\n",
            "|  0|     krish|31.0|      10.0|30000.0|\n",
            "|  1|sudharshan|30.0|       8.0|25000.0|\n",
            "|  2|     sunny|29.0|       4.0|20000.0|\n",
            "|  3|      paul|24.0|       3.0|20000.0|\n",
            "|  4|    harsha|21.0|       1.0|15000.0|\n",
            "|  5|    shubam|23.0|       2.0|18000.0|\n",
            "|  6|    mahesh|null|      null|40000.0|\n",
            "|  7|      null|34.0|      10.0|38000.0|\n",
            "|  8|      null|36.0|      null|   null|\n",
            "+---+----------+----+----------+-------+\n",
            "\n"
          ]
        }
      ]
    },
    {
      "cell_type": "markdown",
      "metadata": {
        "id": "esuOo-J5RtGO"
      },
      "source": [
        "**filling the missing values**"
      ]
    },
    {
      "cell_type": "code",
      "metadata": {
        "colab": {
          "base_uri": "https://localhost:8080/"
        },
        "id": "bDF4kAsEPa_6",
        "outputId": "02bc9268-2dc4-4554-c297-66d68a2851dd"
      },
      "source": [
        "pyspark_df.na.fill('missing_value').show() # fills null values in all cells(that are strings) with \"missing_value\""
      ],
      "execution_count": 14,
      "outputs": [
        {
          "output_type": "stream",
          "name": "stdout",
          "text": [
            "+---+-------------+----+----------+-------+\n",
            "|_c0|         Name| age|Experience| salary|\n",
            "+---+-------------+----+----------+-------+\n",
            "|  0|        krish|31.0|      10.0|30000.0|\n",
            "|  1|   sudharshan|30.0|       8.0|25000.0|\n",
            "|  2|        sunny|29.0|       4.0|20000.0|\n",
            "|  3|         paul|24.0|       3.0|20000.0|\n",
            "|  4|       harsha|21.0|       1.0|15000.0|\n",
            "|  5|       shubam|23.0|       2.0|18000.0|\n",
            "|  6|       mahesh|null|      null|40000.0|\n",
            "|  7|missing_value|34.0|      10.0|38000.0|\n",
            "|  8|missing_value|36.0|      null|   null|\n",
            "+---+-------------+----+----------+-------+\n",
            "\n"
          ]
        }
      ]
    },
    {
      "cell_type": "code",
      "metadata": {
        "colab": {
          "base_uri": "https://localhost:8080/"
        },
        "id": "a34vxfHGPbC-",
        "outputId": "7a1af650-6c39-4091-f558-e2d17f621b8c"
      },
      "source": [
        "pyspark_df.na.fill(0, [\"experience\",\"age\"]).show() # fills the missing values in the experience,age column with 0"
      ],
      "execution_count": 17,
      "outputs": [
        {
          "output_type": "stream",
          "name": "stdout",
          "text": [
            "+---+----------+----+----------+-------+\n",
            "|_c0|      Name| age|Experience| salary|\n",
            "+---+----------+----+----------+-------+\n",
            "|  0|     krish|31.0|      10.0|30000.0|\n",
            "|  1|sudharshan|30.0|       8.0|25000.0|\n",
            "|  2|     sunny|29.0|       4.0|20000.0|\n",
            "|  3|      paul|24.0|       3.0|20000.0|\n",
            "|  4|    harsha|21.0|       1.0|15000.0|\n",
            "|  5|    shubam|23.0|       2.0|18000.0|\n",
            "|  6|    mahesh| 0.0|       0.0|40000.0|\n",
            "|  7|      null|34.0|      10.0|38000.0|\n",
            "|  8|      null|36.0|       0.0|   null|\n",
            "+---+----------+----+----------+-------+\n",
            "\n"
          ]
        }
      ]
    },
    {
      "cell_type": "markdown",
      "metadata": {
        "id": "Mxa5HrdkTFFn"
      },
      "source": [
        "**mean imputer**"
      ]
    },
    {
      "cell_type": "code",
      "metadata": {
        "colab": {
          "base_uri": "https://localhost:8080/"
        },
        "id": "HgtHRUj-PbGH",
        "outputId": "ff7ab9bb-7350-4abb-c522-fdd0ccb40ae9"
      },
      "source": [
        "from pyspark.ml.feature import Imputer\n",
        "\n",
        "imp = Imputer(\n",
        "    inputCols = [\"age\",\"Experience\",\"salary\"],\n",
        "    outputCols = [\"{}\".format(c) for c in [\"age\",\"Experience\",\"salary\"] ]\n",
        ").setStrategy(\"mean\") # can be \"median\" or \"mode\" as well\n",
        "\n",
        "#add imputation cols to df\n",
        "imp.fit(pyspark_df).transform(pyspark_df).show()\n"
      ],
      "execution_count": 21,
      "outputs": [
        {
          "output_type": "stream",
          "name": "stdout",
          "text": [
            "+---+----------+----+-----------------+-------+\n",
            "|_c0|      Name| age|       Experience| salary|\n",
            "+---+----------+----+-----------------+-------+\n",
            "|  0|     krish|31.0|             10.0|30000.0|\n",
            "|  1|sudharshan|30.0|              8.0|25000.0|\n",
            "|  2|     sunny|29.0|              4.0|20000.0|\n",
            "|  3|      paul|24.0|              3.0|20000.0|\n",
            "|  4|    harsha|21.0|              1.0|15000.0|\n",
            "|  5|    shubam|23.0|              2.0|18000.0|\n",
            "|  6|    mahesh|28.5|5.428571428571429|40000.0|\n",
            "|  7|      null|34.0|             10.0|38000.0|\n",
            "|  8|      null|36.0|5.428571428571429|25750.0|\n",
            "+---+----------+----+-----------------+-------+\n",
            "\n"
          ]
        }
      ]
    },
    {
      "cell_type": "code",
      "metadata": {
        "id": "DtWf6rhSSyp6"
      },
      "source": [
        ""
      ],
      "execution_count": null,
      "outputs": []
    },
    {
      "cell_type": "code",
      "metadata": {
        "id": "4Jo7BQiGSysm"
      },
      "source": [
        ""
      ],
      "execution_count": null,
      "outputs": []
    },
    {
      "cell_type": "code",
      "metadata": {
        "id": "nLOgMUkDSyvc"
      },
      "source": [
        ""
      ],
      "execution_count": null,
      "outputs": []
    },
    {
      "cell_type": "code",
      "metadata": {
        "id": "388ru0g4PbI8"
      },
      "source": [
        ""
      ],
      "execution_count": null,
      "outputs": []
    },
    {
      "cell_type": "code",
      "metadata": {
        "id": "S-N9UQ7zPbL2"
      },
      "source": [
        ""
      ],
      "execution_count": null,
      "outputs": []
    },
    {
      "cell_type": "code",
      "metadata": {
        "id": "gEaTFP8iIs1U"
      },
      "source": [
        ""
      ],
      "execution_count": 8,
      "outputs": []
    }
  ]
}