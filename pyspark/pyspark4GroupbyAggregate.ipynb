{
  "nbformat": 4,
  "nbformat_minor": 0,
  "metadata": {
    "colab": {
      "name": "pyspark4GroupbyAggregate.ipynb",
      "provenance": [],
      "collapsed_sections": [],
      "authorship_tag": "ABX9TyMeZpTLJ2LXyIPTpzcKFJOT",
      "include_colab_link": true
    },
    "kernelspec": {
      "name": "python3",
      "display_name": "Python 3"
    },
    "language_info": {
      "name": "python"
    }
  },
  "cells": [
    {
      "cell_type": "markdown",
      "metadata": {
        "id": "view-in-github",
        "colab_type": "text"
      },
      "source": [
        "<a href=\"https://colab.research.google.com/github/VishwanathReddyAenugu/MyLearning/blob/main/pyspark/pyspark4GroupbyAggregate.ipynb\" target=\"_parent\"><img src=\"https://colab.research.google.com/assets/colab-badge.svg\" alt=\"Open In Colab\"/></a>"
      ]
    },
    {
      "cell_type": "markdown",
      "metadata": {
        "id": "Caf8mja9iuua"
      },
      "source": [
        "# GroupBy and aggregate operations"
      ]
    },
    {
      "cell_type": "code",
      "metadata": {
        "colab": {
          "base_uri": "https://localhost:8080/"
        },
        "id": "aW0xOUN3iuQs",
        "outputId": "163f6fbf-3709-4dee-eeaf-14bb2498ae63"
      },
      "source": [
        "!pip install pyspark"
      ],
      "execution_count": 9,
      "outputs": [
        {
          "output_type": "stream",
          "name": "stdout",
          "text": [
            "Requirement already satisfied: pyspark in /usr/local/lib/python3.7/dist-packages (3.2.0)\n",
            "Requirement already satisfied: py4j==0.10.9.2 in /usr/local/lib/python3.7/dist-packages (from pyspark) (0.10.9.2)\n"
          ]
        }
      ]
    },
    {
      "cell_type": "code",
      "metadata": {
        "id": "H4QHB8UPiuTi"
      },
      "source": [
        "import pyspark\n",
        "import pandas as pd"
      ],
      "execution_count": 10,
      "outputs": []
    },
    {
      "cell_type": "code",
      "metadata": {
        "id": "3kDYfutoiuWJ"
      },
      "source": [
        "data = {\n",
        "        \"Name\": [\"krish\",\"sudharshan\",\"sunny\",\"paul\",\"harsha\",\"shubam\",\"mahesh\",None,None],\n",
        "        \"age\" : [31, 30,29,24,21,23,None,34,36],\n",
        "        \"Experience\": [10,8,4,3,1,2,None,10,None],\n",
        "        \"salary\": [30000, 25000, 20000, 20000, 15000, 18000, 40000, 38000,None]\n",
        "       }\n",
        "\n",
        "df = pd.DataFrame.from_dict(data)     \n",
        "df.to_csv(\"test1.csv\")\n"
      ],
      "execution_count": 11,
      "outputs": []
    },
    {
      "cell_type": "code",
      "metadata": {
        "colab": {
          "base_uri": "https://localhost:8080/"
        },
        "id": "SJlXPpsAiuY2",
        "outputId": "ddedfcfc-dd55-499b-d55b-68612ab998b4"
      },
      "source": [
        "from pyspark.sql import SparkSession\n",
        "\n",
        "spark = SparkSession.builder.appName(\"groupByOperations\").getOrCreate()\n",
        "pydf = spark.read.csv(\"test1.csv\",header = True, inferSchema=True)\n",
        "pydf.show()"
      ],
      "execution_count": 12,
      "outputs": [
        {
          "output_type": "stream",
          "name": "stdout",
          "text": [
            "+---+----------+----+----------+-------+\n",
            "|_c0|      Name| age|Experience| salary|\n",
            "+---+----------+----+----------+-------+\n",
            "|  0|     krish|31.0|      10.0|30000.0|\n",
            "|  1|sudharshan|30.0|       8.0|25000.0|\n",
            "|  2|     sunny|29.0|       4.0|20000.0|\n",
            "|  3|      paul|24.0|       3.0|20000.0|\n",
            "|  4|    harsha|21.0|       1.0|15000.0|\n",
            "|  5|    shubam|23.0|       2.0|18000.0|\n",
            "|  6|    mahesh|null|      null|40000.0|\n",
            "|  7|      null|34.0|      10.0|38000.0|\n",
            "|  8|      null|36.0|      null|   null|\n",
            "+---+----------+----+----------+-------+\n",
            "\n"
          ]
        }
      ]
    },
    {
      "cell_type": "code",
      "metadata": {
        "colab": {
          "base_uri": "https://localhost:8080/"
        },
        "id": "VjazDx32kWHG",
        "outputId": "cefe83d3-e13a-4612-d745-48c66e09d48e"
      },
      "source": [
        "pydf.printSchema()"
      ],
      "execution_count": 13,
      "outputs": [
        {
          "output_type": "stream",
          "name": "stdout",
          "text": [
            "root\n",
            " |-- _c0: integer (nullable = true)\n",
            " |-- Name: string (nullable = true)\n",
            " |-- age: double (nullable = true)\n",
            " |-- Experience: double (nullable = true)\n",
            " |-- salary: double (nullable = true)\n",
            "\n"
          ]
        }
      ]
    },
    {
      "cell_type": "code",
      "metadata": {
        "colab": {
          "base_uri": "https://localhost:8080/"
        },
        "id": "CIykLGVs1qoN",
        "outputId": "ec3b43e6-403e-4154-8294-8ffb68985aa6"
      },
      "source": [
        "pydf.show()"
      ],
      "execution_count": 14,
      "outputs": [
        {
          "output_type": "stream",
          "name": "stdout",
          "text": [
            "+---+----------+----+----------+-------+\n",
            "|_c0|      Name| age|Experience| salary|\n",
            "+---+----------+----+----------+-------+\n",
            "|  0|     krish|31.0|      10.0|30000.0|\n",
            "|  1|sudharshan|30.0|       8.0|25000.0|\n",
            "|  2|     sunny|29.0|       4.0|20000.0|\n",
            "|  3|      paul|24.0|       3.0|20000.0|\n",
            "|  4|    harsha|21.0|       1.0|15000.0|\n",
            "|  5|    shubam|23.0|       2.0|18000.0|\n",
            "|  6|    mahesh|null|      null|40000.0|\n",
            "|  7|      null|34.0|      10.0|38000.0|\n",
            "|  8|      null|36.0|      null|   null|\n",
            "+---+----------+----+----------+-------+\n",
            "\n"
          ]
        }
      ]
    },
    {
      "cell_type": "markdown",
      "metadata": {
        "id": "nLIn9ReGkDve"
      },
      "source": [
        "# groupBY"
      ]
    },
    {
      "cell_type": "code",
      "metadata": {
        "id": "V7lE-CrCiubk",
        "colab": {
          "base_uri": "https://localhost:8080/"
        },
        "outputId": "387b1120-848f-489a-dbb2-20031c87240a"
      },
      "source": [
        "pydf.groupBy(\"Experience\").sum().show()"
      ],
      "execution_count": 17,
      "outputs": [
        {
          "output_type": "stream",
          "name": "stdout",
          "text": [
            "+----------+--------+--------+---------------+-----------+\n",
            "|Experience|sum(_c0)|sum(age)|sum(Experience)|sum(salary)|\n",
            "+----------+--------+--------+---------------+-----------+\n",
            "|       8.0|       1|    30.0|            8.0|    25000.0|\n",
            "|       1.0|       4|    21.0|            1.0|    15000.0|\n",
            "|      null|      14|    36.0|           null|    40000.0|\n",
            "|       4.0|       2|    29.0|            4.0|    20000.0|\n",
            "|       3.0|       3|    24.0|            3.0|    20000.0|\n",
            "|       2.0|       5|    23.0|            2.0|    18000.0|\n",
            "|      10.0|       7|    65.0|           20.0|    68000.0|\n",
            "+----------+--------+--------+---------------+-----------+\n",
            "\n"
          ]
        }
      ]
    },
    {
      "cell_type": "code",
      "metadata": {
        "id": "RWTRkPZJjAoq",
        "colab": {
          "base_uri": "https://localhost:8080/"
        },
        "outputId": "46ed1a92-0171-46a6-938d-21d9004b142a"
      },
      "source": [
        "pydf.groupBy(\"Name\").sum().show()"
      ],
      "execution_count": 18,
      "outputs": [
        {
          "output_type": "stream",
          "name": "stdout",
          "text": [
            "+----------+--------+--------+---------------+-----------+\n",
            "|      Name|sum(_c0)|sum(age)|sum(Experience)|sum(salary)|\n",
            "+----------+--------+--------+---------------+-----------+\n",
            "|      paul|       3|    24.0|            3.0|    20000.0|\n",
            "|    shubam|       5|    23.0|            2.0|    18000.0|\n",
            "|sudharshan|       1|    30.0|            8.0|    25000.0|\n",
            "|     sunny|       2|    29.0|            4.0|    20000.0|\n",
            "|     krish|       0|    31.0|           10.0|    30000.0|\n",
            "|    mahesh|       6|    null|           null|    40000.0|\n",
            "|    harsha|       4|    21.0|            1.0|    15000.0|\n",
            "|      null|      15|    70.0|           10.0|    38000.0|\n",
            "+----------+--------+--------+---------------+-----------+\n",
            "\n"
          ]
        }
      ]
    },
    {
      "cell_type": "code",
      "metadata": {
        "id": "l1W9TSqWjArq",
        "colab": {
          "base_uri": "https://localhost:8080/"
        },
        "outputId": "1c2f144b-399c-4d3e-e05b-1f9b63882bb7"
      },
      "source": [
        "pydf.groupBy(\"age\").mean().show()"
      ],
      "execution_count": 19,
      "outputs": [
        {
          "output_type": "stream",
          "name": "stdout",
          "text": [
            "+----+--------+--------+---------------+-----------+\n",
            "| age|avg(_c0)|avg(age)|avg(Experience)|avg(salary)|\n",
            "+----+--------+--------+---------------+-----------+\n",
            "|29.0|     2.0|    29.0|            4.0|    20000.0|\n",
            "|34.0|     7.0|    34.0|           10.0|    38000.0|\n",
            "|null|     6.0|    null|           null|    40000.0|\n",
            "|36.0|     8.0|    36.0|           null|       null|\n",
            "|23.0|     5.0|    23.0|            2.0|    18000.0|\n",
            "|31.0|     0.0|    31.0|           10.0|    30000.0|\n",
            "|21.0|     4.0|    21.0|            1.0|    15000.0|\n",
            "|30.0|     1.0|    30.0|            8.0|    25000.0|\n",
            "|24.0|     3.0|    24.0|            3.0|    20000.0|\n",
            "+----+--------+--------+---------------+-----------+\n",
            "\n"
          ]
        }
      ]
    },
    {
      "cell_type": "code",
      "metadata": {
        "id": "n2bN2OOXjAt1",
        "colab": {
          "base_uri": "https://localhost:8080/"
        },
        "outputId": "ab46227a-257d-4ea7-d36b-59e967da6a46"
      },
      "source": [
        "pydf.agg({\"salary\":\"sum\"}).show()"
      ],
      "execution_count": 20,
      "outputs": [
        {
          "output_type": "stream",
          "name": "stdout",
          "text": [
            "+-----------+\n",
            "|sum(salary)|\n",
            "+-----------+\n",
            "|   206000.0|\n",
            "+-----------+\n",
            "\n"
          ]
        }
      ]
    },
    {
      "cell_type": "code",
      "metadata": {
        "id": "WYxXvaj-jAwT",
        "colab": {
          "base_uri": "https://localhost:8080/"
        },
        "outputId": "a9b14199-fd8d-4bb4-c9ed-8d79d8282d93"
      },
      "source": [
        "pydf.groupBy(\"Name\").max().show()"
      ],
      "execution_count": 22,
      "outputs": [
        {
          "output_type": "stream",
          "name": "stdout",
          "text": [
            "+----------+--------+--------+---------------+-----------+\n",
            "|      Name|max(_c0)|max(age)|max(Experience)|max(salary)|\n",
            "+----------+--------+--------+---------------+-----------+\n",
            "|      paul|       3|    24.0|            3.0|    20000.0|\n",
            "|    shubam|       5|    23.0|            2.0|    18000.0|\n",
            "|sudharshan|       1|    30.0|            8.0|    25000.0|\n",
            "|     sunny|       2|    29.0|            4.0|    20000.0|\n",
            "|     krish|       0|    31.0|           10.0|    30000.0|\n",
            "|    mahesh|       6|    null|           null|    40000.0|\n",
            "|    harsha|       4|    21.0|            1.0|    15000.0|\n",
            "|      null|       8|    36.0|           10.0|    38000.0|\n",
            "+----------+--------+--------+---------------+-----------+\n",
            "\n"
          ]
        }
      ]
    },
    {
      "cell_type": "code",
      "metadata": {
        "id": "Lg5IAF0Q1gGF"
      },
      "source": [
        ""
      ],
      "execution_count": null,
      "outputs": []
    },
    {
      "cell_type": "code",
      "metadata": {
        "id": "ELkBqCh01gIz"
      },
      "source": [
        ""
      ],
      "execution_count": null,
      "outputs": []
    }
  ]
}