{
  "nbformat": 4,
  "nbformat_minor": 0,
  "metadata": {
    "colab": {
      "name": "pyspark3_filterOperations.ipynb",
      "provenance": [],
      "collapsed_sections": [],
      "authorship_tag": "ABX9TyP6ndpFsOd65kiJlNrvcqat",
      "include_colab_link": true
    },
    "kernelspec": {
      "name": "python3",
      "display_name": "Python 3"
    },
    "language_info": {
      "name": "python"
    }
  },
  "cells": [
    {
      "cell_type": "markdown",
      "metadata": {
        "id": "view-in-github",
        "colab_type": "text"
      },
      "source": [
        "<a href=\"https://colab.research.google.com/github/VishwanathReddyAenugu/MyLearning/blob/main/pyspark/pyspark3_filterOperations.ipynb\" target=\"_parent\"><img src=\"https://colab.research.google.com/assets/colab-badge.svg\" alt=\"Open In Colab\"/></a>"
      ]
    },
    {
      "cell_type": "markdown",
      "metadata": {
        "id": "-38UwzGzbwu1"
      },
      "source": [
        "filtering operations"
      ]
    },
    {
      "cell_type": "code",
      "metadata": {
        "colab": {
          "base_uri": "https://localhost:8080/"
        },
        "id": "gsSNVw56b5oY",
        "outputId": "eff3153c-53f8-4a70-8ba4-1f4cf825acab"
      },
      "source": [
        "!pip install pyspark"
      ],
      "execution_count": 1,
      "outputs": [
        {
          "output_type": "stream",
          "name": "stdout",
          "text": [
            "Collecting pyspark\n",
            "  Downloading pyspark-3.2.0.tar.gz (281.3 MB)\n",
            "\u001b[K     |████████████████████████████████| 281.3 MB 38 kB/s \n",
            "\u001b[?25hCollecting py4j==0.10.9.2\n",
            "  Downloading py4j-0.10.9.2-py2.py3-none-any.whl (198 kB)\n",
            "\u001b[K     |████████████████████████████████| 198 kB 42.6 MB/s \n",
            "\u001b[?25hBuilding wheels for collected packages: pyspark\n",
            "  Building wheel for pyspark (setup.py) ... \u001b[?25l\u001b[?25hdone\n",
            "  Created wheel for pyspark: filename=pyspark-3.2.0-py2.py3-none-any.whl size=281805912 sha256=d44cac5424f1647ed5a9abd4020d4b19a1a31f3290d106d279f2905f36a86e37\n",
            "  Stored in directory: /root/.cache/pip/wheels/0b/de/d2/9be5d59d7331c6c2a7c1b6d1a4f463ce107332b1ecd4e80718\n",
            "Successfully built pyspark\n",
            "Installing collected packages: py4j, pyspark\n",
            "Successfully installed py4j-0.10.9.2 pyspark-3.2.0\n"
          ]
        }
      ]
    },
    {
      "cell_type": "code",
      "metadata": {
        "id": "5Gg8ZUv5cnR4"
      },
      "source": [
        "import pyspark\n",
        "import pandas as pd"
      ],
      "execution_count": 4,
      "outputs": []
    },
    {
      "cell_type": "code",
      "metadata": {
        "id": "d0V5OOPIcv4i"
      },
      "source": [
        "data = {\n",
        "        \"Name\": [\"krish\",\"sudharshan\",\"sunny\",\"paul\",\"harsha\",\"shubam\",\"mahesh\",None,None],\n",
        "        \"age\" : [31, 30,29,24,21,23,None,34,36],\n",
        "        \"Experience\": [10,8,4,3,1,2,None,10,None],\n",
        "        \"salary\": [30000, 25000, 20000, 20000, 15000, 18000, 40000, 38000,None]\n",
        "       }\n",
        "\n",
        "df = pd.DataFrame.from_dict(data)     \n",
        "df.to_csv(\"test1.csv\")"
      ],
      "execution_count": 5,
      "outputs": []
    },
    {
      "cell_type": "code",
      "metadata": {
        "id": "SEz4WAY1c7UQ"
      },
      "source": [
        "df = pd.DataFrame.from_dict(data)     \n",
        "df.to_csv(\"test1.csv\")"
      ],
      "execution_count": 6,
      "outputs": []
    },
    {
      "cell_type": "code",
      "metadata": {
        "id": "WsbST68PdA_7"
      },
      "source": [
        "from pyspark.sql import SparkSession"
      ],
      "execution_count": 7,
      "outputs": []
    },
    {
      "cell_type": "code",
      "metadata": {
        "id": "2T2zl3EVdBsZ"
      },
      "source": [
        "spark = SparkSession.builder.appName(\"dataframe\").getOrCreate()"
      ],
      "execution_count": 8,
      "outputs": []
    },
    {
      "cell_type": "code",
      "metadata": {
        "colab": {
          "base_uri": "https://localhost:8080/"
        },
        "id": "Cx_30woJdBu8",
        "outputId": "255793bf-18a1-4432-c7dd-89f6b51c9c01"
      },
      "source": [
        "pyspark_df = spark.read.csv(\"test1.csv\", header=True, inferSchema = True)\n",
        "pyspark_df.show()"
      ],
      "execution_count": 10,
      "outputs": [
        {
          "output_type": "stream",
          "name": "stdout",
          "text": [
            "+---+----------+----+----------+-------+\n",
            "|_c0|      Name| age|Experience| salary|\n",
            "+---+----------+----+----------+-------+\n",
            "|  0|     krish|31.0|      10.0|30000.0|\n",
            "|  1|sudharshan|30.0|       8.0|25000.0|\n",
            "|  2|     sunny|29.0|       4.0|20000.0|\n",
            "|  3|      paul|24.0|       3.0|20000.0|\n",
            "|  4|    harsha|21.0|       1.0|15000.0|\n",
            "|  5|    shubam|23.0|       2.0|18000.0|\n",
            "|  6|    mahesh|null|      null|40000.0|\n",
            "|  7|      null|34.0|      10.0|38000.0|\n",
            "|  8|      null|36.0|      null|   null|\n",
            "+---+----------+----+----------+-------+\n",
            "\n"
          ]
        }
      ]
    },
    {
      "cell_type": "markdown",
      "metadata": {
        "id": "BM7o72Ybd8Rr"
      },
      "source": [
        "# Filter operations"
      ]
    },
    {
      "cell_type": "code",
      "metadata": {
        "colab": {
          "base_uri": "https://localhost:8080/"
        },
        "id": "wzbEXPFrdBxe",
        "outputId": "a90862d5-a19f-44fa-e629-c538fb06b39d"
      },
      "source": [
        "# select rows where salary <= 20000\n",
        "pyspark_df.filter(\"salary <= 20000\").show()"
      ],
      "execution_count": 11,
      "outputs": [
        {
          "output_type": "stream",
          "name": "stdout",
          "text": [
            "+---+------+----+----------+-------+\n",
            "|_c0|  Name| age|Experience| salary|\n",
            "+---+------+----+----------+-------+\n",
            "|  2| sunny|29.0|       4.0|20000.0|\n",
            "|  3|  paul|24.0|       3.0|20000.0|\n",
            "|  4|harsha|21.0|       1.0|15000.0|\n",
            "|  5|shubam|23.0|       2.0|18000.0|\n",
            "+---+------+----+----------+-------+\n",
            "\n"
          ]
        }
      ]
    },
    {
      "cell_type": "code",
      "metadata": {
        "colab": {
          "base_uri": "https://localhost:8080/"
        },
        "id": "F0xjg3hydB0e",
        "outputId": "d6d3f4ba-e73f-4d33-f95d-6513dea85de2"
      },
      "source": [
        "# select list of columns from the dataframe having rows where salary <= 20000\n",
        "pyspark_df.filter(\"salary <= 20000\").select([\"Name\",\"age\"]).show()"
      ],
      "execution_count": 14,
      "outputs": [
        {
          "output_type": "stream",
          "name": "stdout",
          "text": [
            "+------+----+\n",
            "|  Name| age|\n",
            "+------+----+\n",
            "| sunny|29.0|\n",
            "|  paul|24.0|\n",
            "|harsha|21.0|\n",
            "|shubam|23.0|\n",
            "+------+----+\n",
            "\n"
          ]
        }
      ]
    },
    {
      "cell_type": "markdown",
      "metadata": {
        "id": "BbFvS31xfRey"
      },
      "source": [
        "Another way of doing it"
      ]
    },
    {
      "cell_type": "code",
      "metadata": {
        "colab": {
          "base_uri": "https://localhost:8080/"
        },
        "id": "EZqMTyoTdB3J",
        "outputId": "d717256b-ed0d-4496-ae77-2cf70e7a79d1"
      },
      "source": [
        "pyspark_df.filter(pyspark_df[\"salary\"] <= 20000).show()"
      ],
      "execution_count": 15,
      "outputs": [
        {
          "output_type": "stream",
          "name": "stdout",
          "text": [
            "+---+------+----+----------+-------+\n",
            "|_c0|  Name| age|Experience| salary|\n",
            "+---+------+----+----------+-------+\n",
            "|  2| sunny|29.0|       4.0|20000.0|\n",
            "|  3|  paul|24.0|       3.0|20000.0|\n",
            "|  4|harsha|21.0|       1.0|15000.0|\n",
            "|  5|shubam|23.0|       2.0|18000.0|\n",
            "+---+------+----+----------+-------+\n",
            "\n"
          ]
        }
      ]
    },
    {
      "cell_type": "markdown",
      "metadata": {
        "id": "8y1_7XrcfuhY"
      },
      "source": [
        "# **Filtering with multiple conditions**\n",
        "##### condition = ()&()\n",
        "##### df.filter(condition)\n",
        "\n",
        "##### condition = ()|()  \n",
        "##### df.filter(condition) "
      ]
    },
    {
      "cell_type": "code",
      "metadata": {
        "colab": {
          "base_uri": "https://localhost:8080/"
        },
        "id": "HG6kVAgTdB52",
        "outputId": "5153a985-176d-481c-b7e3-da45078afb48"
      },
      "source": [
        "condition = (pyspark_df[\"salary\"]<=20000) & (pyspark_df[\"salary\"] >=1500)\n",
        "pyspark_df.filter(condition).show()"
      ],
      "execution_count": 20,
      "outputs": [
        {
          "output_type": "stream",
          "name": "stdout",
          "text": [
            "+---+------+----+----------+-------+\n",
            "|_c0|  Name| age|Experience| salary|\n",
            "+---+------+----+----------+-------+\n",
            "|  2| sunny|29.0|       4.0|20000.0|\n",
            "|  3|  paul|24.0|       3.0|20000.0|\n",
            "|  4|harsha|21.0|       1.0|15000.0|\n",
            "|  5|shubam|23.0|       2.0|18000.0|\n",
            "+---+------+----+----------+-------+\n",
            "\n"
          ]
        }
      ]
    },
    {
      "cell_type": "markdown",
      "metadata": {
        "id": "PmUNAdVIhn6W"
      },
      "source": [
        "Inverse operation"
      ]
    },
    {
      "cell_type": "code",
      "metadata": {
        "colab": {
          "base_uri": "https://localhost:8080/"
        },
        "id": "kX1qF0jYhnEG",
        "outputId": "ea698875-f400-4d13-f457-8306228756c4"
      },
      "source": [
        "pyspark_df.filter(~condition).show()"
      ],
      "execution_count": 21,
      "outputs": [
        {
          "output_type": "stream",
          "name": "stdout",
          "text": [
            "+---+----------+----+----------+-------+\n",
            "|_c0|      Name| age|Experience| salary|\n",
            "+---+----------+----+----------+-------+\n",
            "|  0|     krish|31.0|      10.0|30000.0|\n",
            "|  1|sudharshan|30.0|       8.0|25000.0|\n",
            "|  6|    mahesh|null|      null|40000.0|\n",
            "|  7|      null|34.0|      10.0|38000.0|\n",
            "+---+----------+----+----------+-------+\n",
            "\n"
          ]
        }
      ]
    },
    {
      "cell_type": "code",
      "metadata": {
        "id": "5ZPMMVv2ffv-"
      },
      "source": [
        ""
      ],
      "execution_count": null,
      "outputs": []
    },
    {
      "cell_type": "code",
      "metadata": {
        "id": "y-43ejG2ffyp"
      },
      "source": [
        ""
      ],
      "execution_count": null,
      "outputs": []
    },
    {
      "cell_type": "code",
      "metadata": {
        "id": "iIhN3Udpff1m"
      },
      "source": [
        ""
      ],
      "execution_count": null,
      "outputs": []
    },
    {
      "cell_type": "code",
      "metadata": {
        "id": "CLNLLQIZff4H"
      },
      "source": [
        ""
      ],
      "execution_count": null,
      "outputs": []
    },
    {
      "cell_type": "code",
      "metadata": {
        "id": "6Eb1qhiWff6-"
      },
      "source": [
        ""
      ],
      "execution_count": null,
      "outputs": []
    },
    {
      "cell_type": "code",
      "metadata": {
        "id": "j4e81wnNff9n"
      },
      "source": [
        ""
      ],
      "execution_count": null,
      "outputs": []
    },
    {
      "cell_type": "code",
      "metadata": {
        "id": "hq8xLO0cfgAZ"
      },
      "source": [
        ""
      ],
      "execution_count": null,
      "outputs": []
    }
  ]
}