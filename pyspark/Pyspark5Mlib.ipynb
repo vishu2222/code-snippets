{
  "nbformat": 4,
  "nbformat_minor": 0,
  "metadata": {
    "colab": {
      "name": "Pyspark5Mlib.ipynb",
      "provenance": [],
      "collapsed_sections": [],
      "authorship_tag": "ABX9TyN7hVh6+qPKrmLeohtNJyL/",
      "include_colab_link": true
    },
    "kernelspec": {
      "name": "python3",
      "display_name": "Python 3"
    },
    "language_info": {
      "name": "python"
    }
  },
  "cells": [
    {
      "cell_type": "markdown",
      "metadata": {
        "id": "view-in-github",
        "colab_type": "text"
      },
      "source": [
        "<a href=\"https://colab.research.google.com/github/VishwanathReddyAenugu/MyLearning/blob/main/pyspark/Pyspark5Mlib.ipynb\" target=\"_parent\"><img src=\"https://colab.research.google.com/assets/colab-badge.svg\" alt=\"Open In Colab\"/></a>"
      ]
    },
    {
      "cell_type": "code",
      "metadata": {
        "colab": {
          "base_uri": "https://localhost:8080/"
        },
        "id": "RDGSJqRW8fKI",
        "outputId": "91184e4e-0364-4f2e-bd7a-24828ca79f19"
      },
      "source": [
        "!pip install pyspark"
      ],
      "execution_count": 1,
      "outputs": [
        {
          "output_type": "stream",
          "name": "stdout",
          "text": [
            "Collecting pyspark\n",
            "  Downloading pyspark-3.2.0.tar.gz (281.3 MB)\n",
            "\u001b[K     |████████████████████████████████| 281.3 MB 41 kB/s \n",
            "\u001b[?25hCollecting py4j==0.10.9.2\n",
            "  Downloading py4j-0.10.9.2-py2.py3-none-any.whl (198 kB)\n",
            "\u001b[K     |████████████████████████████████| 198 kB 54.9 MB/s \n",
            "\u001b[?25hBuilding wheels for collected packages: pyspark\n",
            "  Building wheel for pyspark (setup.py) ... \u001b[?25l\u001b[?25hdone\n",
            "  Created wheel for pyspark: filename=pyspark-3.2.0-py2.py3-none-any.whl size=281805912 sha256=a803c87fc4235c454841c27d6015f221ff90f2659e13032c2b39c0373faebfca\n",
            "  Stored in directory: /root/.cache/pip/wheels/0b/de/d2/9be5d59d7331c6c2a7c1b6d1a4f463ce107332b1ecd4e80718\n",
            "Successfully built pyspark\n",
            "Installing collected packages: py4j, pyspark\n",
            "Successfully installed py4j-0.10.9.2 pyspark-3.2.0\n"
          ]
        }
      ]
    },
    {
      "cell_type": "markdown",
      "metadata": {
        "id": "T2Rs7U_AEgDy"
      },
      "source": [
        "# **Machine learning with pyspark**"
      ]
    },
    {
      "cell_type": "code",
      "metadata": {
        "id": "HlKFu1MS8hJ8"
      },
      "source": [
        "import pyspark\n",
        "import pandas as pd"
      ],
      "execution_count": 2,
      "outputs": []
    },
    {
      "cell_type": "code",
      "metadata": {
        "id": "e3Yv92GK8jML"
      },
      "source": [
        "data = {\n",
        "        \"Name\": [\"krish\",\"sudharshan\",\"sunny\",\"paul\",\"harsha\",\"shubam\"],\n",
        "        \"age\" : [31,30,29,24,21,23],\n",
        "        \"Experience\": [10,8,4,3,1,2],\n",
        "        \"salary\": [30000, 25000, 20000, 20000, 15000, 18000]\n",
        "       }\n",
        "\n",
        "df = pd.DataFrame.from_dict(data)     \n",
        "df.to_csv(\"test1.csv\")"
      ],
      "execution_count": 3,
      "outputs": []
    },
    {
      "cell_type": "code",
      "metadata": {
        "id": "A81mdQp487Oa"
      },
      "source": [
        "from pyspark.sql import SparkSession\n",
        "spark = SparkSession.builder.appName(\"Mlib\").getOrCreate()"
      ],
      "execution_count": 4,
      "outputs": []
    },
    {
      "cell_type": "code",
      "metadata": {
        "colab": {
          "base_uri": "https://localhost:8080/"
        },
        "id": "h1kotKPe9zwk",
        "outputId": "e02ee652-16c2-4f9e-a090-f4379c3061cb"
      },
      "source": [
        "training = spark.read.csv(\"test1.csv\", header = True, inferSchema=True)\n",
        "training.show()"
      ],
      "execution_count": 5,
      "outputs": [
        {
          "output_type": "stream",
          "name": "stdout",
          "text": [
            "+---+----------+---+----------+------+\n",
            "|_c0|      Name|age|Experience|salary|\n",
            "+---+----------+---+----------+------+\n",
            "|  0|     krish| 31|        10| 30000|\n",
            "|  1|sudharshan| 30|         8| 25000|\n",
            "|  2|     sunny| 29|         4| 20000|\n",
            "|  3|      paul| 24|         3| 20000|\n",
            "|  4|    harsha| 21|         1| 15000|\n",
            "|  5|    shubam| 23|         2| 18000|\n",
            "+---+----------+---+----------+------+\n",
            "\n"
          ]
        }
      ]
    },
    {
      "cell_type": "code",
      "metadata": {
        "colab": {
          "base_uri": "https://localhost:8080/"
        },
        "id": "yHdxU4wU-KwI",
        "outputId": "a7bc3149-79c9-48ec-f47c-d4edb846cc46"
      },
      "source": [
        "training.printSchema()"
      ],
      "execution_count": 6,
      "outputs": [
        {
          "output_type": "stream",
          "name": "stdout",
          "text": [
            "root\n",
            " |-- _c0: integer (nullable = true)\n",
            " |-- Name: string (nullable = true)\n",
            " |-- age: integer (nullable = true)\n",
            " |-- Experience: integer (nullable = true)\n",
            " |-- salary: integer (nullable = true)\n",
            "\n"
          ]
        }
      ]
    },
    {
      "cell_type": "code",
      "metadata": {
        "colab": {
          "base_uri": "https://localhost:8080/"
        },
        "id": "0Y6iVlS6-NSo",
        "outputId": "70a5340a-0780-47ad-91d9-c0d8f0a03357"
      },
      "source": [
        "training.columns"
      ],
      "execution_count": 7,
      "outputs": [
        {
          "output_type": "execute_result",
          "data": {
            "text/plain": [
              "['_c0', 'Name', 'age', 'Experience', 'salary']"
            ]
          },
          "metadata": {},
          "execution_count": 7
        }
      ]
    },
    {
      "cell_type": "code",
      "metadata": {
        "id": "3kbU8p80-dAy"
      },
      "source": [
        "from pyspark.ml.feature import VectorAssembler\n",
        "featureassembler = VectorAssembler(inputCols = [\"age\",\"Experience\"], outputCol = \"Independent Features\")"
      ],
      "execution_count": 8,
      "outputs": []
    },
    {
      "cell_type": "code",
      "metadata": {
        "id": "Ga8XTkEQ-dDa"
      },
      "source": [
        "output = featureassembler.transform(training)"
      ],
      "execution_count": 9,
      "outputs": []
    },
    {
      "cell_type": "code",
      "metadata": {
        "colab": {
          "base_uri": "https://localhost:8080/"
        },
        "id": "GYMptGD9-dI0",
        "outputId": "3346d92d-fea9-4d65-b8e1-b42833cb3081"
      },
      "source": [
        "output.show()"
      ],
      "execution_count": 11,
      "outputs": [
        {
          "output_type": "stream",
          "name": "stdout",
          "text": [
            "+---+----------+---+----------+------+--------------------+\n",
            "|_c0|      Name|age|Experience|salary|Independent Features|\n",
            "+---+----------+---+----------+------+--------------------+\n",
            "|  0|     krish| 31|        10| 30000|         [31.0,10.0]|\n",
            "|  1|sudharshan| 30|         8| 25000|          [30.0,8.0]|\n",
            "|  2|     sunny| 29|         4| 20000|          [29.0,4.0]|\n",
            "|  3|      paul| 24|         3| 20000|          [24.0,3.0]|\n",
            "|  4|    harsha| 21|         1| 15000|          [21.0,1.0]|\n",
            "|  5|    shubam| 23|         2| 18000|          [23.0,2.0]|\n",
            "+---+----------+---+----------+------+--------------------+\n",
            "\n"
          ]
        }
      ]
    },
    {
      "cell_type": "code",
      "metadata": {
        "colab": {
          "base_uri": "https://localhost:8080/"
        },
        "id": "Rh2EbakY-dF-",
        "outputId": "83868eb2-ecb9-47f1-efcd-aecad6664b98"
      },
      "source": [
        "output.columns"
      ],
      "execution_count": null,
      "outputs": [
        {
          "output_type": "execute_result",
          "data": {
            "text/plain": [
              "['_c0', 'Name', 'age', 'Experience', 'salary', 'Independent Features']"
            ]
          },
          "metadata": {},
          "execution_count": 10
        }
      ]
    },
    {
      "cell_type": "code",
      "metadata": {
        "id": "JHGMcdxT-dN_"
      },
      "source": [
        "final_data = output.select(\"Independent Features\",\"salary\")"
      ],
      "execution_count": 12,
      "outputs": []
    },
    {
      "cell_type": "code",
      "metadata": {
        "colab": {
          "base_uri": "https://localhost:8080/"
        },
        "id": "-QgrkbIe-dQm",
        "outputId": "c2fbd68e-1ee2-43a8-ae51-34356c4ee7bf"
      },
      "source": [
        "final_data.show()"
      ],
      "execution_count": 13,
      "outputs": [
        {
          "output_type": "stream",
          "name": "stdout",
          "text": [
            "+--------------------+------+\n",
            "|Independent Features|salary|\n",
            "+--------------------+------+\n",
            "|         [31.0,10.0]| 30000|\n",
            "|          [30.0,8.0]| 25000|\n",
            "|          [29.0,4.0]| 20000|\n",
            "|          [24.0,3.0]| 20000|\n",
            "|          [21.0,1.0]| 15000|\n",
            "|          [23.0,2.0]| 18000|\n",
            "+--------------------+------+\n",
            "\n"
          ]
        }
      ]
    },
    {
      "cell_type": "code",
      "metadata": {
        "id": "0k037my7-dTU"
      },
      "source": [
        "from pyspark.ml.regression import LinearRegression\n",
        "train_data,test_data = final_data.randomSplit([0.75,0.25])\n",
        "regressor = LinearRegression(featuresCol=\"Independent Features\", labelCol = \"salary\")\n",
        "regressor = regressor.fit(train_data)"
      ],
      "execution_count": 15,
      "outputs": []
    },
    {
      "cell_type": "code",
      "metadata": {
        "colab": {
          "base_uri": "https://localhost:8080/"
        },
        "id": "lUmCiL25CL8P",
        "outputId": "6a97bbb8-de32-4ce9-d53c-eb57fed6dce6"
      },
      "source": [
        "regressor.coefficients"
      ],
      "execution_count": 16,
      "outputs": [
        {
          "output_type": "execute_result",
          "data": {
            "text/plain": [
              "DenseVector([-90.5483, 1608.7819])"
            ]
          },
          "metadata": {},
          "execution_count": 16
        }
      ]
    },
    {
      "cell_type": "code",
      "metadata": {
        "colab": {
          "base_uri": "https://localhost:8080/"
        },
        "id": "3TJKJ0BACMBR",
        "outputId": "ea686933-c9c6-43c6-c331-13956991fae3"
      },
      "source": [
        "regressor.intercept"
      ],
      "execution_count": 17,
      "outputs": [
        {
          "output_type": "execute_result",
          "data": {
            "text/plain": [
              "16079.13669064716"
            ]
          },
          "metadata": {},
          "execution_count": 17
        }
      ]
    },
    {
      "cell_type": "code",
      "metadata": {
        "id": "kwKjpG9JCMGs"
      },
      "source": [
        "predict_results =  regressor.evaluate(test_data)"
      ],
      "execution_count": 18,
      "outputs": []
    },
    {
      "cell_type": "code",
      "metadata": {
        "colab": {
          "base_uri": "https://localhost:8080/"
        },
        "id": "JW-Tcyw1-NVN",
        "outputId": "e96f1f0a-171a-441a-da5b-d2629f0ca61f"
      },
      "source": [
        "predict_results.predictions.show()"
      ],
      "execution_count": 19,
      "outputs": [
        {
          "output_type": "stream",
          "name": "stderr",
          "text": [
            "/usr/local/lib/python3.7/dist-packages/pyspark/sql/context.py:127: FutureWarning: Deprecated in 3.0.0. Use SparkSession.builder.getOrCreate() instead.\n",
            "  FutureWarning\n"
          ]
        },
        {
          "output_type": "stream",
          "name": "stdout",
          "text": [
            "+--------------------+------+------------------+\n",
            "|Independent Features|salary|        prediction|\n",
            "+--------------------+------+------------------+\n",
            "|          [23.0,2.0]| 18000|17214.090796328448|\n",
            "+--------------------+------+------------------+\n",
            "\n"
          ]
        }
      ]
    },
    {
      "cell_type": "code",
      "metadata": {
        "colab": {
          "base_uri": "https://localhost:8080/"
        },
        "id": "3Ls261IoD6_-",
        "outputId": "c6dd4bdf-7643-41d1-e00d-f4f0fdd97757"
      },
      "source": [
        "predict_results.meanAbsoluteError, predict_results.meanSquaredError"
      ],
      "execution_count": 20,
      "outputs": [
        {
          "output_type": "execute_result",
          "data": {
            "text/plain": [
              "(785.909203671552, 617653.276415653)"
            ]
          },
          "metadata": {},
          "execution_count": 20
        }
      ]
    },
    {
      "cell_type": "code",
      "metadata": {
        "id": "uXelFMvZEW2c"
      },
      "source": [
        ""
      ],
      "execution_count": null,
      "outputs": []
    }
  ]
}