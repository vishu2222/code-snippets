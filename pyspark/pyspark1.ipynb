{
  "nbformat": 4,
  "nbformat_minor": 0,
  "metadata": {
    "colab": {
      "name": "pyspark.ipynb",
      "provenance": [],
      "collapsed_sections": []
    },
    "kernelspec": {
      "name": "python3",
      "display_name": "Python 3"
    },
    "language_info": {
      "name": "python"
    }
  },
  "cells": [
    {
      "cell_type": "markdown",
      "metadata": {
        "id": "5njAazUo6M2L"
      },
      "source": [
        "**Free code camp(Pyspark tutorial)**\n",
        "https://www.youtube.com/watch?v=_C8kWso4ne4&t=66s"
      ]
    },
    {
      "cell_type": "code",
      "metadata": {
        "colab": {
          "base_uri": "https://localhost:8080/"
        },
        "id": "n0ePsJNP3A1L",
        "outputId": "bc8f4c61-a149-4bbb-f264-057fe5fd9a9e"
      },
      "source": [
        "!pip install pyspark"
      ],
      "execution_count": 34,
      "outputs": [
        {
          "output_type": "stream",
          "name": "stdout",
          "text": [
            "Requirement already satisfied: pyspark in /usr/local/lib/python3.7/dist-packages (3.2.0)\n",
            "Requirement already satisfied: py4j==0.10.9.2 in /usr/local/lib/python3.7/dist-packages (from pyspark) (0.10.9.2)\n"
          ]
        }
      ]
    },
    {
      "cell_type": "code",
      "metadata": {
        "id": "jTscwDlB3Hek"
      },
      "source": [
        "import pyspark\n",
        "import pandas as pd"
      ],
      "execution_count": 35,
      "outputs": []
    },
    {
      "cell_type": "code",
      "metadata": {
        "id": "dXfYOTn8BYJj"
      },
      "source": [
        "data = {\n",
        "        \"Name\": [\"krish\",\"sudharshan\",\"sunny\"],\n",
        "        \"age\" : [31, 30,29]\n",
        "       }\n",
        "\n",
        "df = pd.DataFrame.from_dict(data)     \n",
        "df.to_csv(\"test1.csv\")"
      ],
      "execution_count": 36,
      "outputs": []
    },
    {
      "cell_type": "code",
      "metadata": {
        "id": "8QlESytZ3HoK"
      },
      "source": [
        "from pyspark.sql import SparkSession"
      ],
      "execution_count": 37,
      "outputs": []
    },
    {
      "cell_type": "code",
      "metadata": {
        "id": "Meysp4WV3Hrj"
      },
      "source": [
        "spark = SparkSession.builder.appName(\"Practice\").getOrCreate()"
      ],
      "execution_count": 38,
      "outputs": []
    },
    {
      "cell_type": "code",
      "metadata": {
        "colab": {
          "base_uri": "https://localhost:8080/",
          "height": 218
        },
        "id": "1o4AOvGr3Hun",
        "outputId": "e82fee1b-6c4c-4bc9-f39a-2c2c6932cf8a"
      },
      "source": [
        "spark"
      ],
      "execution_count": 39,
      "outputs": [
        {
          "output_type": "execute_result",
          "data": {
            "text/html": [
              "\n",
              "            <div>\n",
              "                <p><b>SparkSession - in-memory</b></p>\n",
              "                \n",
              "        <div>\n",
              "            <p><b>SparkContext</b></p>\n",
              "\n",
              "            <p><a href=\"http://ad93eab56c81:4040\">Spark UI</a></p>\n",
              "\n",
              "            <dl>\n",
              "              <dt>Version</dt>\n",
              "                <dd><code>v3.2.0</code></dd>\n",
              "              <dt>Master</dt>\n",
              "                <dd><code>local[*]</code></dd>\n",
              "              <dt>AppName</dt>\n",
              "                <dd><code>SparkByExamples.com</code></dd>\n",
              "            </dl>\n",
              "        </div>\n",
              "        \n",
              "            </div>\n",
              "        "
            ],
            "text/plain": [
              "<pyspark.sql.session.SparkSession at 0x7fb350679990>"
            ]
          },
          "metadata": {},
          "execution_count": 39
        }
      ]
    },
    {
      "cell_type": "code",
      "metadata": {
        "id": "G6uGS7kJ35lo"
      },
      "source": [
        "df_spark = spark.read.csv(\"test1.csv\")"
      ],
      "execution_count": 40,
      "outputs": []
    },
    {
      "cell_type": "code",
      "metadata": {
        "id": "x6tO5KjS35o1",
        "colab": {
          "base_uri": "https://localhost:8080/"
        },
        "outputId": "ef3f1317-f77d-4a05-d65e-e003a760a7bc"
      },
      "source": [
        "df_spark"
      ],
      "execution_count": 41,
      "outputs": [
        {
          "output_type": "execute_result",
          "data": {
            "text/plain": [
              "DataFrame[_c0: string, _c1: string, _c2: string]"
            ]
          },
          "metadata": {},
          "execution_count": 41
        }
      ]
    },
    {
      "cell_type": "code",
      "metadata": {
        "id": "PvSiYOQM35rT",
        "colab": {
          "base_uri": "https://localhost:8080/"
        },
        "outputId": "715e8550-34d1-4764-ba3e-4bb2a608f901"
      },
      "source": [
        "df_spark.show()"
      ],
      "execution_count": 42,
      "outputs": [
        {
          "output_type": "stream",
          "name": "stdout",
          "text": [
            "+----+----------+---+\n",
            "| _c0|       _c1|_c2|\n",
            "+----+----------+---+\n",
            "|null|      Name|age|\n",
            "|   0|     krish| 31|\n",
            "|   1|sudharshan| 30|\n",
            "|   2|     sunny| 29|\n",
            "+----+----------+---+\n",
            "\n"
          ]
        }
      ]
    },
    {
      "cell_type": "code",
      "metadata": {
        "id": "0rtjpm_R35t8",
        "colab": {
          "base_uri": "https://localhost:8080/"
        },
        "outputId": "5127e89d-13ba-4499-fb77-c415a621e985"
      },
      "source": [
        "spark.read.option(\"header\",\"true\").csv(\"test1.csv\").show()"
      ],
      "execution_count": 43,
      "outputs": [
        {
          "output_type": "stream",
          "name": "stdout",
          "text": [
            "+---+----------+---+\n",
            "|_c0|      Name|age|\n",
            "+---+----------+---+\n",
            "|  0|     krish| 31|\n",
            "|  1|sudharshan| 30|\n",
            "|  2|     sunny| 29|\n",
            "+---+----------+---+\n",
            "\n"
          ]
        }
      ]
    },
    {
      "cell_type": "code",
      "metadata": {
        "id": "zLFBvXKm35w2"
      },
      "source": [
        "df_spark = spark.read.option(\"header\",\"true\").csv(\"test1.csv\", inferSchema = True) #setting infer schema to true makes spark to infer the data types of the columns"
      ],
      "execution_count": 44,
      "outputs": []
    },
    {
      "cell_type": "code",
      "metadata": {
        "id": "GPqgg_SJ35zp",
        "colab": {
          "base_uri": "https://localhost:8080/"
        },
        "outputId": "ea350d1d-f4c1-4dcf-c243-86bf82cf431a"
      },
      "source": [
        "type(df_spark)"
      ],
      "execution_count": 45,
      "outputs": [
        {
          "output_type": "execute_result",
          "data": {
            "text/plain": [
              "pyspark.sql.dataframe.DataFrame"
            ]
          },
          "metadata": {},
          "execution_count": 45
        }
      ]
    },
    {
      "cell_type": "code",
      "metadata": {
        "id": "jCJXG8Kt352j",
        "colab": {
          "base_uri": "https://localhost:8080/"
        },
        "outputId": "2645649f-3e67-4063-d881-26edc34ec741"
      },
      "source": [
        "df_spark.printSchema()"
      ],
      "execution_count": 46,
      "outputs": [
        {
          "output_type": "stream",
          "name": "stdout",
          "text": [
            "root\n",
            " |-- _c0: integer (nullable = true)\n",
            " |-- Name: string (nullable = true)\n",
            " |-- age: integer (nullable = true)\n",
            "\n"
          ]
        }
      ]
    },
    {
      "cell_type": "code",
      "metadata": {
        "id": "UHQdGyP03540",
        "colab": {
          "base_uri": "https://localhost:8080/"
        },
        "outputId": "68961e17-abed-43e9-e7b7-a6698206ba6f"
      },
      "source": [
        "df_spark.columns"
      ],
      "execution_count": 48,
      "outputs": [
        {
          "output_type": "execute_result",
          "data": {
            "text/plain": [
              "['_c0', 'Name', 'age']"
            ]
          },
          "metadata": {},
          "execution_count": 48
        }
      ]
    },
    {
      "cell_type": "code",
      "metadata": {
        "id": "JZu3KaIr357P",
        "colab": {
          "base_uri": "https://localhost:8080/"
        },
        "outputId": "831a6b28-b9c1-43fc-fba7-8eadafe794f7"
      },
      "source": [
        "df_spark.head(3)  # in pandas this gives a data frame but in spark it is a list"
      ],
      "execution_count": 49,
      "outputs": [
        {
          "output_type": "execute_result",
          "data": {
            "text/plain": [
              "[Row(_c0=0, Name='krish', age=31),\n",
              " Row(_c0=1, Name='sudharshan', age=30),\n",
              " Row(_c0=2, Name='sunny', age=29)]"
            ]
          },
          "metadata": {},
          "execution_count": 49
        }
      ]
    },
    {
      "cell_type": "code",
      "metadata": {
        "id": "QHiMFRwt3Hx6",
        "colab": {
          "base_uri": "https://localhost:8080/"
        },
        "outputId": "b2d92f40-e110-4d34-f0b9-745053bff912"
      },
      "source": [
        "df_spark.show()"
      ],
      "execution_count": 51,
      "outputs": [
        {
          "output_type": "stream",
          "name": "stdout",
          "text": [
            "+---+----------+---+\n",
            "|_c0|      Name|age|\n",
            "+---+----------+---+\n",
            "|  0|     krish| 31|\n",
            "|  1|sudharshan| 30|\n",
            "|  2|     sunny| 29|\n",
            "+---+----------+---+\n",
            "\n"
          ]
        }
      ]
    },
    {
      "cell_type": "code",
      "metadata": {
        "id": "umMZISdb3H0-",
        "colab": {
          "base_uri": "https://localhost:8080/"
        },
        "outputId": "82842953-a5c8-41f6-c1d4-d0f11e3b0fe0"
      },
      "source": [
        "df_spark.select(\"Name\")   # selecting a column name this returns a spark dataframe"
      ],
      "execution_count": 53,
      "outputs": [
        {
          "output_type": "execute_result",
          "data": {
            "text/plain": [
              "DataFrame[Name: string]"
            ]
          },
          "metadata": {},
          "execution_count": 53
        }
      ]
    },
    {
      "cell_type": "code",
      "metadata": {
        "colab": {
          "base_uri": "https://localhost:8080/"
        },
        "id": "wLMd0-Ti7uAd",
        "outputId": "e969c365-2340-4e09-c1f0-cf25a05626e9"
      },
      "source": [
        "df_spark.select(\"Name\").show()  # To select and show a column"
      ],
      "execution_count": 54,
      "outputs": [
        {
          "output_type": "stream",
          "name": "stdout",
          "text": [
            "+----------+\n",
            "|      Name|\n",
            "+----------+\n",
            "|     krish|\n",
            "|sudharshan|\n",
            "|     sunny|\n",
            "+----------+\n",
            "\n"
          ]
        }
      ]
    },
    {
      "cell_type": "code",
      "metadata": {
        "colab": {
          "base_uri": "https://localhost:8080/"
        },
        "id": "Liqr-mas8BmF",
        "outputId": "9ec3646e-bb45-4df6-ac3f-894d1a1a57e0"
      },
      "source": [
        "df_spark.select([\"Name\",\"age\"]).show() # To select and show a list of columns"
      ],
      "execution_count": 55,
      "outputs": [
        {
          "output_type": "stream",
          "name": "stdout",
          "text": [
            "+----------+---+\n",
            "|      Name|age|\n",
            "+----------+---+\n",
            "|     krish| 31|\n",
            "|sudharshan| 30|\n",
            "|     sunny| 29|\n",
            "+----------+---+\n",
            "\n"
          ]
        }
      ]
    },
    {
      "cell_type": "code",
      "metadata": {
        "colab": {
          "base_uri": "https://localhost:8080/"
        },
        "id": "qbgvR_O08dPE",
        "outputId": "4b7cf663-025e-4b28-d5d1-b69c5fb9130b"
      },
      "source": [
        "df_spark.dtypes"
      ],
      "execution_count": 56,
      "outputs": [
        {
          "output_type": "execute_result",
          "data": {
            "text/plain": [
              "[('_c0', 'int'), ('Name', 'string'), ('age', 'int')]"
            ]
          },
          "metadata": {},
          "execution_count": 56
        }
      ]
    },
    {
      "cell_type": "code",
      "metadata": {
        "colab": {
          "base_uri": "https://localhost:8080/"
        },
        "id": "xOvFyIqS87HR",
        "outputId": "f88b8b58-af3f-4f5b-9b0d-0cea405d32f3"
      },
      "source": [
        "df_spark.describe()"
      ],
      "execution_count": 58,
      "outputs": [
        {
          "output_type": "execute_result",
          "data": {
            "text/plain": [
              "DataFrame[summary: string, _c0: string, Name: string, age: string]"
            ]
          },
          "metadata": {},
          "execution_count": 58
        }
      ]
    },
    {
      "cell_type": "code",
      "metadata": {
        "colab": {
          "base_uri": "https://localhost:8080/"
        },
        "id": "WWPrz7sk9WAI",
        "outputId": "888379da-ddf6-4110-a9b6-641c85ed7cce"
      },
      "source": [
        "df_spark.describe().show()"
      ],
      "execution_count": 60,
      "outputs": [
        {
          "output_type": "stream",
          "name": "stdout",
          "text": [
            "+-------+---+-----+----+\n",
            "|summary|_c0| Name| age|\n",
            "+-------+---+-----+----+\n",
            "|  count|  3|    3|   3|\n",
            "|   mean|1.0| null|30.0|\n",
            "| stddev|1.0| null| 1.0|\n",
            "|    min|  0|krish|  29|\n",
            "|    max|  2|sunny|  31|\n",
            "+-------+---+-----+----+\n",
            "\n"
          ]
        }
      ]
    },
    {
      "cell_type": "markdown",
      "metadata": {
        "id": "gSnU_7CY9jiM"
      },
      "source": [
        "**Adding columns in dataFrame**"
      ]
    },
    {
      "cell_type": "code",
      "metadata": {
        "id": "xixOR2Fe9Zzp"
      },
      "source": [
        "df_spark = df_spark.withColumn(\"Age_after_2Years\",df_spark[\"age\"]+2)"
      ],
      "execution_count": 62,
      "outputs": []
    },
    {
      "cell_type": "code",
      "metadata": {
        "colab": {
          "base_uri": "https://localhost:8080/"
        },
        "id": "vqpzbJzx-PR4",
        "outputId": "d3d86ac3-819c-402b-88a5-3d4d87c4da13"
      },
      "source": [
        "df_spark.show()"
      ],
      "execution_count": 64,
      "outputs": [
        {
          "output_type": "stream",
          "name": "stdout",
          "text": [
            "+---+----------+---+----------------+\n",
            "|_c0|      Name|age|Age_after_2Years|\n",
            "+---+----------+---+----------------+\n",
            "|  0|     krish| 31|              33|\n",
            "|  1|sudharshan| 30|              32|\n",
            "|  2|     sunny| 29|              31|\n",
            "+---+----------+---+----------------+\n",
            "\n"
          ]
        }
      ]
    },
    {
      "cell_type": "markdown",
      "metadata": {
        "id": "dUMLEng1-rlv"
      },
      "source": [
        "**Dropping the columns**"
      ]
    },
    {
      "cell_type": "code",
      "metadata": {
        "id": "dRM5fzS5-dKd"
      },
      "source": [
        "df_spark = df_spark.drop(\"Age_after_2Years\")"
      ],
      "execution_count": 65,
      "outputs": []
    },
    {
      "cell_type": "code",
      "metadata": {
        "colab": {
          "base_uri": "https://localhost:8080/"
        },
        "id": "1fi_0-pM_AhQ",
        "outputId": "e4d64d36-b3c1-4bba-9a5c-7b2f62133f7f"
      },
      "source": [
        "df_spark.show()"
      ],
      "execution_count": 66,
      "outputs": [
        {
          "output_type": "stream",
          "name": "stdout",
          "text": [
            "+---+----------+---+\n",
            "|_c0|      Name|age|\n",
            "+---+----------+---+\n",
            "|  0|     krish| 31|\n",
            "|  1|sudharshan| 30|\n",
            "|  2|     sunny| 29|\n",
            "+---+----------+---+\n",
            "\n"
          ]
        }
      ]
    },
    {
      "cell_type": "markdown",
      "metadata": {
        "id": "WaqxvOlT_O1A"
      },
      "source": [
        "**Rename a column**"
      ]
    },
    {
      "cell_type": "code",
      "metadata": {
        "id": "ypM8OFle_CRD"
      },
      "source": [
        "df_spark = df_spark.withColumnRenamed(\"age\",\"Age\")"
      ],
      "execution_count": 67,
      "outputs": []
    },
    {
      "cell_type": "code",
      "metadata": {
        "colab": {
          "base_uri": "https://localhost:8080/"
        },
        "id": "lkBBori4_OWH",
        "outputId": "8fddf481-7a02-438f-817d-e72fcd27caa2"
      },
      "source": [
        "df_spark.show()"
      ],
      "execution_count": 68,
      "outputs": [
        {
          "output_type": "stream",
          "name": "stdout",
          "text": [
            "+---+----------+---+\n",
            "|_c0|      Name|Age|\n",
            "+---+----------+---+\n",
            "|  0|     krish| 31|\n",
            "|  1|sudharshan| 30|\n",
            "|  2|     sunny| 29|\n",
            "+---+----------+---+\n",
            "\n"
          ]
        }
      ]
    },
    {
      "cell_type": "code",
      "metadata": {
        "id": "MAVzj9Hq_OY8"
      },
      "source": [
        ""
      ],
      "execution_count": null,
      "outputs": []
    },
    {
      "cell_type": "code",
      "metadata": {
        "id": "4-4-Lur2_Ob6"
      },
      "source": [
        ""
      ],
      "execution_count": null,
      "outputs": []
    }
  ]
}